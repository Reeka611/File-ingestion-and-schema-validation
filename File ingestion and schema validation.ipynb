{
 "cells": [
  {
   "cell_type": "code",
   "execution_count": 23,
   "metadata": {},
   "outputs": [],
   "source": [
    "import os\n",
    "import time"
   ]
  },
  {
   "cell_type": "code",
   "execution_count": 24,
   "metadata": {},
   "outputs": [
    {
     "data": {
      "text/plain": [
       "1968829442"
      ]
     },
     "execution_count": 24,
     "metadata": {},
     "output_type": "execute_result"
    }
   ],
   "source": [
    "#Size of the file\n",
    "os.path.getsize('C:/Users/HAZARIKA/Desktop/Rate.csv')"
   ]
  },
  {
   "cell_type": "code",
   "execution_count": 25,
   "metadata": {},
   "outputs": [],
   "source": [
    "#Read in the data with Dask"
   ]
  },
  {
   "cell_type": "code",
   "execution_count": 26,
   "metadata": {},
   "outputs": [
    {
     "name": "stdout",
     "output_type": "stream",
     "text": [
      "Read csv with dask:  0.011967897415161133 sec\n"
     ]
    }
   ],
   "source": [
    "from dask import dataframe as dd\n",
    "start = time.time()\n",
    "dask_df = dd.read_csv('C:/Users/HAZARIKA/Desktop/Rate.csv')\n",
    "end = time.time()\n",
    "print(\"Read csv with dask: \",(end-start),\"sec\")"
   ]
  },
  {
   "cell_type": "code",
   "execution_count": 27,
   "metadata": {},
   "outputs": [],
   "source": [
    "#Read in the data with Pandas"
   ]
  },
  {
   "cell_type": "code",
   "execution_count": 28,
   "metadata": {},
   "outputs": [
    {
     "name": "stdout",
     "output_type": "stream",
     "text": [
      "Read csv with pandas:  28.48867106437683 sec\n"
     ]
    }
   ],
   "source": [
    "import pandas as pd\n",
    "start = time.time()\n",
    "df = pd.read_csv('C:/Users/HAZARIKA/Desktop/Rate.csv')\n",
    "end = time.time()\n",
    "print(\"Read csv with pandas: \",(end-start),\"sec\")"
   ]
  },
  {
   "cell_type": "code",
   "execution_count": 29,
   "metadata": {},
   "outputs": [],
   "source": [
    "# Read in the data with Modin and Ray"
   ]
  },
  {
   "cell_type": "code",
   "execution_count": 30,
   "metadata": {},
   "outputs": [
    {
     "name": "stderr",
     "output_type": "stream",
     "text": [
      "2021-04-16 13:16:20,499\tINFO services.py:1171 -- View the Ray dashboard at \u001b[1m\u001b[32mhttp://127.0.0.1:8265\u001b[39m\u001b[22m\n"
     ]
    },
    {
     "name": "stdout",
     "output_type": "stream",
     "text": [
      "Read csv with modin and ray:  24.314270734786987 sec\n"
     ]
    }
   ],
   "source": [
    "import modin.pandas as pd\n",
    "import ray\n",
    "ray.shutdown()\n",
    "ray.init()\n",
    "start = time.time()\n",
    "df = pd.read_csv('C:/Users/HAZARIKA/Desktop/Rate.csv')\n",
    "end = time.time()\n",
    "print(\"Read csv with modin and ray: \",(end-start),\"sec\")"
   ]
  },
  {
   "cell_type": "code",
   "execution_count": null,
   "metadata": {},
   "outputs": [],
   "source": [
    "# Here Dask is better than Pandas, Modin and Ray, with the least reading time of 0.012 sec"
   ]
  },
  {
   "cell_type": "code",
   "execution_count": 31,
   "metadata": {},
   "outputs": [],
   "source": [
    "from dask import dataframe as dd\n",
    "df = dd.read_csv('C:/Users/HAZARIKA/Desktop/Rate.csv',delimiter=',')"
   ]
  },
  {
   "cell_type": "code",
   "execution_count": 32,
   "metadata": {},
   "outputs": [
    {
     "name": "stdout",
     "output_type": "stream",
     "text": [
      "<class 'dask.dataframe.core.DataFrame'>\n",
      "Columns: 24 entries, BusinessYear to RowNumber\n",
      "dtypes: object(10), float64(9), int64(5)"
     ]
    }
   ],
   "source": [
    "df.info()"
   ]
  },
  {
   "cell_type": "code",
   "execution_count": 33,
   "metadata": {},
   "outputs": [
    {
     "data": {
      "text/plain": [
       "12694445"
      ]
     },
     "execution_count": 33,
     "metadata": {},
     "output_type": "execute_result"
    }
   ],
   "source": [
    "#No. of Rows\n",
    "len(df.index)"
   ]
  },
  {
   "cell_type": "code",
   "execution_count": 34,
   "metadata": {},
   "outputs": [
    {
     "data": {
      "text/plain": [
       "24"
      ]
     },
     "execution_count": 34,
     "metadata": {},
     "output_type": "execute_result"
    }
   ],
   "source": [
    "#No, of Columns\n",
    "len(df.columns)"
   ]
  },
  {
   "cell_type": "code",
   "execution_count": 35,
   "metadata": {},
   "outputs": [
    {
     "name": "stderr",
     "output_type": "stream",
     "text": [
      "FutureWarning: The default value of regex will change from True to False in a future version.\n"
     ]
    }
   ],
   "source": [
    "# remove special character\n",
    "df.columns=df.columns.str.replace('[#,@,&]','')"
   ]
  },
  {
   "cell_type": "code",
   "execution_count": 36,
   "metadata": {},
   "outputs": [],
   "source": [
    "#To remove white space from columns\n",
    "df.columns = df.columns.str.replace(' ', '')"
   ]
  },
  {
   "cell_type": "code",
   "execution_count": 37,
   "metadata": {},
   "outputs": [
    {
     "data": {
      "text/plain": [
       "Index(['BusinessYear', 'StateCode', 'IssuerId', 'SourceName', 'VersionNum',\n",
       "       'ImportDate', 'IssuerId2', 'FederalTIN', 'RateEffectiveDate',\n",
       "       'RateExpirationDate', 'PlanId', 'RatingAreaId', 'Tobacco', 'Age',\n",
       "       'IndividualRate', 'IndividualTobaccoRate', 'Couple',\n",
       "       'PrimarySubscriberAndOneDependent', 'PrimarySubscriberAndTwoDependents',\n",
       "       'PrimarySubscriberAndThreeOrMoreDependents', 'CoupleAndOneDependent',\n",
       "       'CoupleAndTwoDependents', 'CoupleAndThreeOrMoreDependents',\n",
       "       'RowNumber'],\n",
       "      dtype='object')"
      ]
     },
     "execution_count": 37,
     "metadata": {},
     "output_type": "execute_result"
    }
   ],
   "source": [
    "data=df.columns\n",
    "data"
   ]
  },
  {
   "cell_type": "code",
   "execution_count": 38,
   "metadata": {},
   "outputs": [],
   "source": [
    "#Validation"
   ]
  },
  {
   "cell_type": "code",
   "execution_count": 10,
   "metadata": {},
   "outputs": [
    {
     "name": "stdout",
     "output_type": "stream",
     "text": [
      "Overwriting utility.py\n"
     ]
    }
   ],
   "source": [
    "%%writefile utility.py\n",
    "import logging\n",
    "import os\n",
    "import subprocess\n",
    "import yaml\n",
    "import pandas as pd\n",
    "import datetime \n",
    "import gc\n",
    "import re\n",
    "\n",
    "\n",
    "def read_config_file(filepath):\n",
    "    with open(filepath, 'r') as stream:\n",
    "        try:\n",
    "            return yaml.load(stream, Loader=yaml.Loader)\n",
    "        except yaml.YAMLError as exc:\n",
    "            logging.error(exc)\n",
    "\n",
    "def col_header_val(df,table_config):\n",
    "    df.columns = df.columns.str.lower()\n",
    "    df.columns = df.columns.str.replace('[^\\w]','_',regex=True)\n",
    "    df.columns = list(map(lambda x: x.strip('_'), list(df.columns)))\n",
    "    df.columns = list(map(lambda x: replacer(x,'_'), list(df.columns)))\n",
    "    expected_col = list(map(lambda x: x.lower(),  table_config['columns']))\n",
    "    expected_col.sort()\n",
    "    df.columns =list(map(lambda x: x.lower(), list(df.columns)))\n",
    "    df = df.reindex(sorted(df.columns), axis=1)\n",
    "    if len(df.columns) == len(expected_col) and list(expected_col)  == list(df.columns):\n",
    "        print(\"column name and column length validation passed\")\n",
    "        return 1\n",
    "    else:\n",
    "        print(\"column name and column length validation failed\")\n",
    "        mismatched_columns_file = list(set(df.columns).difference(expected_col))\n",
    "        print(\"Following File columns are not in the YAML file\",mismatched_columns_file)\n",
    "        missing_YAML_file = list(set(expected_col).difference(df.columns))\n",
    "        print(\"Following YAML columns are not in the file uploaded\",missing_YAML_file)\n",
    "        logging.info(f'df columns: {df.columns}')\n",
    "        logging.info(f'expected columns: {expected_col}')\n",
    "        return 0"
   ]
  },
  {
   "cell_type": "code",
   "execution_count": 14,
   "metadata": {},
   "outputs": [
    {
     "name": "stdout",
     "output_type": "stream",
     "text": [
      "Overwriting file.yaml\n"
     ]
    }
   ],
   "source": [
    "%%writefile file.yaml\n",
    "file_type: csv\n",
    "dataset_name: testfile\n",
    "file_name: test_data\n",
    "table_name: edsurv\n",
    "inbound_delimiter: \",\"\n",
    "outbound_delimiter: \"|\"\n",
    "skip_leading_rows: 1\n",
    "columns: \n",
    "    - BusinessYear\n",
    "      - StateCode\n",
    "      - IssuerId\n",
    "      - SourceName\n",
    "      - VersionNum\n",
    "      - ImportDate\n",
    "      - IssuerId2\n",
    "      - FederalTIN\n",
    "      - RateEffectiveDate\n",
    "      - RateExpirationDate\n",
    "      - PlanId\n",
    "      - RatingAreaId\n",
    "      - Tobacco\n",
    "      - Age\n",
    "      - IndividualRate\n",
    "      - IndividualTobaccoRate\n",
    "      - Couple\n",
    "      - PrimarySubscriberAndOneDependent\n",
    "      - PrimarySubscriberAndTwoDependents\n",
    "      - PrimarySubscriberAndThreeOrMoreDependents\n",
    "      - CoupleAndOneDependent\n",
    "      - CoupleAndTwoDependents\n",
    "      - CoupleAndThreeOrMoreDependents\n",
    "      - RowNumber"
   ]
  },
  {
   "cell_type": "code",
   "execution_count": 15,
   "metadata": {},
   "outputs": [],
   "source": [
    "# Reading config file\n",
    "import utility as util\n",
    "config_data = util.read_config_file(\"file.yaml\")"
   ]
  },
  {
   "cell_type": "code",
   "execution_count": 16,
   "metadata": {},
   "outputs": [
    {
     "data": {
      "text/plain": [
       "{'file_type': 'csv',\n",
       " 'dataset_name': 'testfile',\n",
       " 'file_name': 'test_data',\n",
       " 'table_name': 'edsurv',\n",
       " 'inbound_delimiter': ',',\n",
       " 'outbound_delimiter': '|',\n",
       " 'skip_leading_rows': 1,\n",
       " 'columns': ['BusinessYear - StateCode - IssuerId - SourceName - VersionNum - ImportDate - IssuerId2 - FederalTIN - RateEffectiveDate - RateExpirationDate - PlanId - RatingAreaId - Tobacco - Age - IndividualRate - IndividualTobaccoRate - Couple - PrimarySubscriberAndOneDependent - PrimarySubscriberAndTwoDependents - PrimarySubscriberAndThreeOrMoreDependents - CoupleAndOneDependent - CoupleAndTwoDependents - CoupleAndThreeOrMoreDependents - RowNumber']}"
      ]
     },
     "execution_count": 16,
     "metadata": {},
     "output_type": "execute_result"
    }
   ],
   "source": [
    "#data of config file\n",
    "config_data"
   ]
  },
  {
   "cell_type": "code",
   "execution_count": 75,
   "metadata": {},
   "outputs": [
    {
     "data": {
      "text/html": [
       "<div>\n",
       "<style scoped>\n",
       "    .dataframe tbody tr th:only-of-type {\n",
       "        vertical-align: middle;\n",
       "    }\n",
       "\n",
       "    .dataframe tbody tr th {\n",
       "        vertical-align: top;\n",
       "    }\n",
       "\n",
       "    .dataframe thead th {\n",
       "        text-align: right;\n",
       "    }\n",
       "</style>\n",
       "<table border=\"1\" class=\"dataframe\">\n",
       "  <thead>\n",
       "    <tr style=\"text-align: right;\">\n",
       "      <th></th>\n",
       "      <th>BusinessYear</th>\n",
       "      <th>StateCode</th>\n",
       "      <th>IssuerId</th>\n",
       "      <th>SourceName</th>\n",
       "      <th>VersionNum</th>\n",
       "      <th>ImportDate</th>\n",
       "      <th>IssuerId2</th>\n",
       "      <th>FederalTIN</th>\n",
       "      <th>RateEffectiveDate</th>\n",
       "      <th>RateExpirationDate</th>\n",
       "      <th>...</th>\n",
       "      <th>IndividualRate</th>\n",
       "      <th>IndividualTobaccoRate</th>\n",
       "      <th>Couple</th>\n",
       "      <th>PrimarySubscriberAndOneDependent</th>\n",
       "      <th>PrimarySubscriberAndTwoDependents</th>\n",
       "      <th>PrimarySubscriberAndThreeOrMoreDependents</th>\n",
       "      <th>CoupleAndOneDependent</th>\n",
       "      <th>CoupleAndTwoDependents</th>\n",
       "      <th>CoupleAndThreeOrMoreDependents</th>\n",
       "      <th>RowNumber</th>\n",
       "    </tr>\n",
       "  </thead>\n",
       "  <tbody>\n",
       "    <tr>\n",
       "      <th>0</th>\n",
       "      <td>2014</td>\n",
       "      <td>AK</td>\n",
       "      <td>21989</td>\n",
       "      <td>HIOS</td>\n",
       "      <td>6</td>\n",
       "      <td>2014-03-19 07:06:49</td>\n",
       "      <td>21989</td>\n",
       "      <td>93-0438772</td>\n",
       "      <td>2014-01-01</td>\n",
       "      <td>2014-12-31</td>\n",
       "      <td>...</td>\n",
       "      <td>29.00</td>\n",
       "      <td>NaN</td>\n",
       "      <td>NaN</td>\n",
       "      <td>NaN</td>\n",
       "      <td>NaN</td>\n",
       "      <td>NaN</td>\n",
       "      <td>NaN</td>\n",
       "      <td>NaN</td>\n",
       "      <td>NaN</td>\n",
       "      <td>14</td>\n",
       "    </tr>\n",
       "    <tr>\n",
       "      <th>1</th>\n",
       "      <td>2014</td>\n",
       "      <td>AK</td>\n",
       "      <td>21989</td>\n",
       "      <td>HIOS</td>\n",
       "      <td>6</td>\n",
       "      <td>2014-03-19 07:06:49</td>\n",
       "      <td>21989</td>\n",
       "      <td>93-0438772</td>\n",
       "      <td>2014-01-01</td>\n",
       "      <td>2014-12-31</td>\n",
       "      <td>...</td>\n",
       "      <td>36.95</td>\n",
       "      <td>NaN</td>\n",
       "      <td>73.9</td>\n",
       "      <td>107.61</td>\n",
       "      <td>107.61</td>\n",
       "      <td>107.61</td>\n",
       "      <td>144.56</td>\n",
       "      <td>144.56</td>\n",
       "      <td>144.56</td>\n",
       "      <td>14</td>\n",
       "    </tr>\n",
       "    <tr>\n",
       "      <th>2</th>\n",
       "      <td>2014</td>\n",
       "      <td>AK</td>\n",
       "      <td>21989</td>\n",
       "      <td>HIOS</td>\n",
       "      <td>6</td>\n",
       "      <td>2014-03-19 07:06:49</td>\n",
       "      <td>21989</td>\n",
       "      <td>93-0438772</td>\n",
       "      <td>2014-01-01</td>\n",
       "      <td>2014-12-31</td>\n",
       "      <td>...</td>\n",
       "      <td>36.95</td>\n",
       "      <td>NaN</td>\n",
       "      <td>73.9</td>\n",
       "      <td>107.61</td>\n",
       "      <td>107.61</td>\n",
       "      <td>107.61</td>\n",
       "      <td>144.56</td>\n",
       "      <td>144.56</td>\n",
       "      <td>144.56</td>\n",
       "      <td>15</td>\n",
       "    </tr>\n",
       "    <tr>\n",
       "      <th>3</th>\n",
       "      <td>2014</td>\n",
       "      <td>AK</td>\n",
       "      <td>21989</td>\n",
       "      <td>HIOS</td>\n",
       "      <td>6</td>\n",
       "      <td>2014-03-19 07:06:49</td>\n",
       "      <td>21989</td>\n",
       "      <td>93-0438772</td>\n",
       "      <td>2014-01-01</td>\n",
       "      <td>2014-12-31</td>\n",
       "      <td>...</td>\n",
       "      <td>32.00</td>\n",
       "      <td>NaN</td>\n",
       "      <td>NaN</td>\n",
       "      <td>NaN</td>\n",
       "      <td>NaN</td>\n",
       "      <td>NaN</td>\n",
       "      <td>NaN</td>\n",
       "      <td>NaN</td>\n",
       "      <td>NaN</td>\n",
       "      <td>15</td>\n",
       "    </tr>\n",
       "    <tr>\n",
       "      <th>4</th>\n",
       "      <td>2014</td>\n",
       "      <td>AK</td>\n",
       "      <td>21989</td>\n",
       "      <td>HIOS</td>\n",
       "      <td>6</td>\n",
       "      <td>2014-03-19 07:06:49</td>\n",
       "      <td>21989</td>\n",
       "      <td>93-0438772</td>\n",
       "      <td>2014-01-01</td>\n",
       "      <td>2014-12-31</td>\n",
       "      <td>...</td>\n",
       "      <td>32.00</td>\n",
       "      <td>NaN</td>\n",
       "      <td>NaN</td>\n",
       "      <td>NaN</td>\n",
       "      <td>NaN</td>\n",
       "      <td>NaN</td>\n",
       "      <td>NaN</td>\n",
       "      <td>NaN</td>\n",
       "      <td>NaN</td>\n",
       "      <td>16</td>\n",
       "    </tr>\n",
       "  </tbody>\n",
       "</table>\n",
       "<p>5 rows × 24 columns</p>\n",
       "</div>"
      ],
      "text/plain": [
       "   BusinessYear StateCode  IssuerId SourceName  VersionNum  \\\n",
       "0          2014        AK     21989       HIOS           6   \n",
       "1          2014        AK     21989       HIOS           6   \n",
       "2          2014        AK     21989       HIOS           6   \n",
       "3          2014        AK     21989       HIOS           6   \n",
       "4          2014        AK     21989       HIOS           6   \n",
       "\n",
       "            ImportDate  IssuerId2  FederalTIN RateEffectiveDate  \\\n",
       "0  2014-03-19 07:06:49      21989  93-0438772        2014-01-01   \n",
       "1  2014-03-19 07:06:49      21989  93-0438772        2014-01-01   \n",
       "2  2014-03-19 07:06:49      21989  93-0438772        2014-01-01   \n",
       "3  2014-03-19 07:06:49      21989  93-0438772        2014-01-01   \n",
       "4  2014-03-19 07:06:49      21989  93-0438772        2014-01-01   \n",
       "\n",
       "  RateExpirationDate  ... IndividualRate IndividualTobaccoRate Couple  \\\n",
       "0         2014-12-31  ...          29.00                   NaN    NaN   \n",
       "1         2014-12-31  ...          36.95                   NaN   73.9   \n",
       "2         2014-12-31  ...          36.95                   NaN   73.9   \n",
       "3         2014-12-31  ...          32.00                   NaN    NaN   \n",
       "4         2014-12-31  ...          32.00                   NaN    NaN   \n",
       "\n",
       "  PrimarySubscriberAndOneDependent  PrimarySubscriberAndTwoDependents  \\\n",
       "0                              NaN                                NaN   \n",
       "1                           107.61                             107.61   \n",
       "2                           107.61                             107.61   \n",
       "3                              NaN                                NaN   \n",
       "4                              NaN                                NaN   \n",
       "\n",
       "   PrimarySubscriberAndThreeOrMoreDependents  CoupleAndOneDependent  \\\n",
       "0                                        NaN                    NaN   \n",
       "1                                     107.61                 144.56   \n",
       "2                                     107.61                 144.56   \n",
       "3                                        NaN                    NaN   \n",
       "4                                        NaN                    NaN   \n",
       "\n",
       "   CoupleAndTwoDependents  CoupleAndThreeOrMoreDependents  RowNumber  \n",
       "0                     NaN                             NaN         14  \n",
       "1                  144.56                          144.56         14  \n",
       "2                  144.56                          144.56         15  \n",
       "3                     NaN                             NaN         15  \n",
       "4                     NaN                             NaN         16  \n",
       "\n",
       "[5 rows x 24 columns]"
      ]
     },
     "execution_count": 75,
     "metadata": {},
     "output_type": "execute_result"
    }
   ],
   "source": [
    "# Reading process of the file using Dask\n",
    "from dask import dataframe as dd\n",
    "df_sample = dd.read_csv('C:/Users/HAZARIKA/Desktop/Rate.csv',delimiter=',')\n",
    "df_sample.head()"
   ]
  },
  {
   "cell_type": "code",
   "execution_count": 17,
   "metadata": {},
   "outputs": [],
   "source": [
    "#Reading the file using config file\n",
    "file_type = config_data['file_type']\n",
    "source_file = config_data['file_name'] + f'.{file_type}'"
   ]
  },
  {
   "cell_type": "code",
   "execution_count": 19,
   "metadata": {},
   "outputs": [
    {
     "data": {
      "text/html": [
       "<div>\n",
       "<style scoped>\n",
       "    .dataframe tbody tr th:only-of-type {\n",
       "        vertical-align: middle;\n",
       "    }\n",
       "\n",
       "    .dataframe tbody tr th {\n",
       "        vertical-align: top;\n",
       "    }\n",
       "\n",
       "    .dataframe thead th {\n",
       "        text-align: right;\n",
       "    }\n",
       "</style>\n",
       "<table border=\"1\" class=\"dataframe\">\n",
       "  <thead>\n",
       "    <tr style=\"text-align: right;\">\n",
       "      <th></th>\n",
       "      <th>BusinessYear</th>\n",
       "      <th>StateCode</th>\n",
       "      <th>IssuerId</th>\n",
       "      <th>SourceName</th>\n",
       "      <th>VersionNum</th>\n",
       "      <th>ImportDate</th>\n",
       "      <th>Unnamed: 6</th>\n",
       "      <th>Unnamed: 7</th>\n",
       "      <th>Unnamed: 8</th>\n",
       "      <th>Unnamed: 9</th>\n",
       "    </tr>\n",
       "  </thead>\n",
       "  <tbody>\n",
       "    <tr>\n",
       "      <th>0</th>\n",
       "      <td>2014</td>\n",
       "      <td>AK</td>\n",
       "      <td>21989</td>\n",
       "      <td>HIOS</td>\n",
       "      <td>6</td>\n",
       "      <td>19/03/2014 07:06</td>\n",
       "      <td>NaN</td>\n",
       "      <td>NaN</td>\n",
       "      <td>NaN</td>\n",
       "      <td>NaN</td>\n",
       "    </tr>\n",
       "    <tr>\n",
       "      <th>1</th>\n",
       "      <td>2014</td>\n",
       "      <td>AK</td>\n",
       "      <td>21989</td>\n",
       "      <td>HIOS</td>\n",
       "      <td>6</td>\n",
       "      <td>19/03/2014 07:06</td>\n",
       "      <td>NaN</td>\n",
       "      <td>NaN</td>\n",
       "      <td>NaN</td>\n",
       "      <td>NaN</td>\n",
       "    </tr>\n",
       "    <tr>\n",
       "      <th>2</th>\n",
       "      <td>2014</td>\n",
       "      <td>AK</td>\n",
       "      <td>21989</td>\n",
       "      <td>HIOS</td>\n",
       "      <td>6</td>\n",
       "      <td>19/03/2014 07:06</td>\n",
       "      <td>NaN</td>\n",
       "      <td>NaN</td>\n",
       "      <td>NaN</td>\n",
       "      <td>NaN</td>\n",
       "    </tr>\n",
       "    <tr>\n",
       "      <th>3</th>\n",
       "      <td>2014</td>\n",
       "      <td>AK</td>\n",
       "      <td>21989</td>\n",
       "      <td>HIOS</td>\n",
       "      <td>6</td>\n",
       "      <td>19/03/2014 07:06</td>\n",
       "      <td>NaN</td>\n",
       "      <td>NaN</td>\n",
       "      <td>NaN</td>\n",
       "      <td>NaN</td>\n",
       "    </tr>\n",
       "    <tr>\n",
       "      <th>4</th>\n",
       "      <td>2014</td>\n",
       "      <td>AK</td>\n",
       "      <td>21989</td>\n",
       "      <td>HIOS</td>\n",
       "      <td>6</td>\n",
       "      <td>19/03/2014 07:06</td>\n",
       "      <td>NaN</td>\n",
       "      <td>NaN</td>\n",
       "      <td>NaN</td>\n",
       "      <td>NaN</td>\n",
       "    </tr>\n",
       "  </tbody>\n",
       "</table>\n",
       "</div>"
      ],
      "text/plain": [
       "   BusinessYear StateCode  IssuerId SourceName  VersionNum        ImportDate  \\\n",
       "0          2014        AK     21989       HIOS           6  19/03/2014 07:06   \n",
       "1          2014        AK     21989       HIOS           6  19/03/2014 07:06   \n",
       "2          2014        AK     21989       HIOS           6  19/03/2014 07:06   \n",
       "3          2014        AK     21989       HIOS           6  19/03/2014 07:06   \n",
       "4          2014        AK     21989       HIOS           6  19/03/2014 07:06   \n",
       "\n",
       "   Unnamed: 6  Unnamed: 7  Unnamed: 8  Unnamed: 9  \n",
       "0         NaN         NaN         NaN         NaN  \n",
       "1         NaN         NaN         NaN         NaN  \n",
       "2         NaN         NaN         NaN         NaN  \n",
       "3         NaN         NaN         NaN         NaN  \n",
       "4         NaN         NaN         NaN         NaN  "
      ]
     },
     "execution_count": 19,
     "metadata": {},
     "output_type": "execute_result"
    }
   ],
   "source": [
    "import pandas as pd\n",
    "df = pd.read_csv(source_file,config_data['inbound_delimiter'])\n",
    "df.head()"
   ]
  },
  {
   "cell_type": "code",
   "execution_count": 20,
   "metadata": {},
   "outputs": [
    {
     "name": "stdout",
     "output_type": "stream",
     "text": [
      "column name and column length validation failed\n",
      "Following File columns are not in the YAML file ['unnamed_6', 'sourcename', 'importdate', 'unnamed_7', 'issuerid', 'businessyear', 'unnamed_8', 'unnamed_9', 'statecode', 'versionnum']\n",
      "Following YAML columns are not in the file uploaded ['businessyear - statecode - issuerid - sourcename - versionnum - importdate - issuerid2 - federaltin - rateeffectivedate - rateexpirationdate - planid - ratingareaid - tobacco - age - individualrate - individualtobaccorate - couple - primarysubscriberandonedependent - primarysubscriberandtwodependents - primarysubscriberandthreeormoredependents - coupleandonedependent - coupleandtwodependents - coupleandthreeormoredependents - rownumber']\n"
     ]
    },
    {
     "data": {
      "text/plain": [
       "0"
      ]
     },
     "execution_count": 20,
     "metadata": {},
     "output_type": "execute_result"
    }
   ],
   "source": [
    "#validating the header of the file\n",
    "util.col_header_val(df,config_data)"
   ]
  },
  {
   "cell_type": "code",
   "execution_count": 21,
   "metadata": {},
   "outputs": [
    {
     "name": "stdout",
     "output_type": "stream",
     "text": [
      "columns of files are: Index(['businessyear', 'statecode', 'issuerid', 'sourcename', 'versionnum',\n",
      "       'importdate', 'unnamed_6', 'unnamed_7', 'unnamed_8', 'unnamed_9'],\n",
      "      dtype='object')\n",
      "columns of YAML are: ['BusinessYear - StateCode - IssuerId - SourceName - VersionNum - ImportDate - IssuerId2 - FederalTIN - RateEffectiveDate - RateExpirationDate - PlanId - RatingAreaId - Tobacco - Age - IndividualRate - IndividualTobaccoRate - Couple - PrimarySubscriberAndOneDependent - PrimarySubscriberAndTwoDependents - PrimarySubscriberAndThreeOrMoreDependents - CoupleAndOneDependent - CoupleAndTwoDependents - CoupleAndThreeOrMoreDependents - RowNumber']\n"
     ]
    }
   ],
   "source": [
    "print(\"columns of files are:\" ,df.columns)\n",
    "print(\"columns of YAML are:\" ,config_data['columns'])"
   ]
  },
  {
   "cell_type": "code",
   "execution_count": 22,
   "metadata": {},
   "outputs": [
    {
     "name": "stdout",
     "output_type": "stream",
     "text": [
      "column name and column length validation failed\n",
      "Following File columns are not in the YAML file ['unnamed_6', 'sourcename', 'importdate', 'unnamed_7', 'issuerid', 'businessyear', 'unnamed_8', 'unnamed_9', 'statecode', 'versionnum']\n",
      "Following YAML columns are not in the file uploaded ['businessyear - statecode - issuerid - sourcename - versionnum - importdate - issuerid2 - federaltin - rateeffectivedate - rateexpirationdate - planid - ratingareaid - tobacco - age - individualrate - individualtobaccorate - couple - primarysubscriberandonedependent - primarysubscriberandtwodependents - primarysubscriberandthreeormoredependents - coupleandonedependent - coupleandtwodependents - coupleandthreeormoredependents - rownumber']\n",
      "validation failed\n"
     ]
    }
   ],
   "source": [
    "if util.col_header_val(df,config_data)==0:\n",
    "    print(\"validation failed\")\n",
    "else:\n",
    "    print(\"col validation passed\")"
   ]
  },
  {
   "cell_type": "code",
   "execution_count": 39,
   "metadata": {},
   "outputs": [
    {
     "data": {
      "text/plain": [
       "['C:/Users/HAZARIKA/Rate.csv.gz\\\\00.part',\n",
       " 'C:/Users/HAZARIKA/Rate.csv.gz\\\\01.part',\n",
       " 'C:/Users/HAZARIKA/Rate.csv.gz\\\\02.part',\n",
       " 'C:/Users/HAZARIKA/Rate.csv.gz\\\\03.part',\n",
       " 'C:/Users/HAZARIKA/Rate.csv.gz\\\\04.part',\n",
       " 'C:/Users/HAZARIKA/Rate.csv.gz\\\\05.part',\n",
       " 'C:/Users/HAZARIKA/Rate.csv.gz\\\\06.part',\n",
       " 'C:/Users/HAZARIKA/Rate.csv.gz\\\\07.part',\n",
       " 'C:/Users/HAZARIKA/Rate.csv.gz\\\\08.part',\n",
       " 'C:/Users/HAZARIKA/Rate.csv.gz\\\\09.part',\n",
       " 'C:/Users/HAZARIKA/Rate.csv.gz\\\\10.part',\n",
       " 'C:/Users/HAZARIKA/Rate.csv.gz\\\\11.part',\n",
       " 'C:/Users/HAZARIKA/Rate.csv.gz\\\\12.part',\n",
       " 'C:/Users/HAZARIKA/Rate.csv.gz\\\\13.part',\n",
       " 'C:/Users/HAZARIKA/Rate.csv.gz\\\\14.part',\n",
       " 'C:/Users/HAZARIKA/Rate.csv.gz\\\\15.part',\n",
       " 'C:/Users/HAZARIKA/Rate.csv.gz\\\\16.part',\n",
       " 'C:/Users/HAZARIKA/Rate.csv.gz\\\\17.part',\n",
       " 'C:/Users/HAZARIKA/Rate.csv.gz\\\\18.part',\n",
       " 'C:/Users/HAZARIKA/Rate.csv.gz\\\\19.part',\n",
       " 'C:/Users/HAZARIKA/Rate.csv.gz\\\\20.part',\n",
       " 'C:/Users/HAZARIKA/Rate.csv.gz\\\\21.part',\n",
       " 'C:/Users/HAZARIKA/Rate.csv.gz\\\\22.part',\n",
       " 'C:/Users/HAZARIKA/Rate.csv.gz\\\\23.part',\n",
       " 'C:/Users/HAZARIKA/Rate.csv.gz\\\\24.part',\n",
       " 'C:/Users/HAZARIKA/Rate.csv.gz\\\\25.part',\n",
       " 'C:/Users/HAZARIKA/Rate.csv.gz\\\\26.part',\n",
       " 'C:/Users/HAZARIKA/Rate.csv.gz\\\\27.part',\n",
       " 'C:/Users/HAZARIKA/Rate.csv.gz\\\\28.part',\n",
       " 'C:/Users/HAZARIKA/Rate.csv.gz\\\\29.part',\n",
       " 'C:/Users/HAZARIKA/Rate.csv.gz\\\\30.part']"
      ]
     },
     "execution_count": 39,
     "metadata": {},
     "output_type": "execute_result"
    }
   ],
   "source": [
    "import datetime\n",
    "import csv\n",
    "import gzip\n",
    "\n",
    "from dask import dataframe as dd\n",
    "df = dd.read_csv('C:/Users/HAZARIKA/Desktop/Rate.csv',delimiter=',')\n",
    "\n",
    "# Write csv in gz format in pipe separated text file (|)\n",
    "df.to_csv('Rate.csv.gz',\n",
    "          sep='|',\n",
    "          header=True,\n",
    "          index=False,\n",
    "          quoting=csv.QUOTE_ALL,\n",
    "          compression='gzip',\n",
    "          quotechar='\"',\n",
    "          doublequote=True,\n",
    "          line_terminator='\\n')"
   ]
  },
  {
   "cell_type": "code",
   "execution_count": 40,
   "metadata": {},
   "outputs": [
    {
     "name": "stdout",
     "output_type": "stream",
     "text": [
      "00.part\n",
      "01.part\n",
      "02.part\n",
      "03.part\n",
      "04.part\n",
      "05.part\n",
      "06.part\n",
      "07.part\n",
      "08.part\n",
      "09.part\n",
      "10.part\n",
      "11.part\n",
      "12.part\n",
      "13.part\n",
      "14.part\n",
      "15.part\n",
      "16.part\n",
      "17.part\n",
      "18.part\n",
      "19.part\n",
      "20.part\n",
      "21.part\n",
      "22.part\n",
      "23.part\n",
      "24.part\n",
      "25.part\n",
      "26.part\n",
      "27.part\n",
      "28.part\n",
      "29.part\n",
      "30.part\n"
     ]
    }
   ],
   "source": [
    "#number of files in gz format folder\n",
    "import os\n",
    "entries = os.listdir('C:/Users/HAZARIKA/Rate.csv.gz/')\n",
    "for entry in entries:\n",
    "    print(entry)"
   ]
  },
  {
   "cell_type": "code",
   "execution_count": 41,
   "metadata": {},
   "outputs": [
    {
     "data": {
      "text/plain": [
       "8192"
      ]
     },
     "execution_count": 41,
     "metadata": {},
     "output_type": "execute_result"
    }
   ],
   "source": [
    "#size of the gz format folder\n",
    "os.path.getsize('C:/Users/HAZARIKA/Rate.csv.gz')"
   ]
  },
  {
   "cell_type": "code",
   "execution_count": null,
   "metadata": {},
   "outputs": [],
   "source": []
  }
 ],
 "metadata": {
  "kernelspec": {
   "display_name": "Python 3",
   "language": "python",
   "name": "python3"
  },
  "language_info": {
   "codemirror_mode": {
    "name": "ipython",
    "version": 3
   },
   "file_extension": ".py",
   "mimetype": "text/x-python",
   "name": "python",
   "nbconvert_exporter": "python",
   "pygments_lexer": "ipython3",
   "version": "3.8.5"
  }
 },
 "nbformat": 4,
 "nbformat_minor": 4
}
