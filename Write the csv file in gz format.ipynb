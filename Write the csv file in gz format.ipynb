{
 "cells": [
  {
   "cell_type": "code",
   "execution_count": 1,
   "metadata": {},
   "outputs": [
    {
     "data": {
      "text/plain": [
       "['C:/Users/HAZARIKA/Rate.csv.gz\\\\00.part',\n",
       " 'C:/Users/HAZARIKA/Rate.csv.gz\\\\01.part',\n",
       " 'C:/Users/HAZARIKA/Rate.csv.gz\\\\02.part',\n",
       " 'C:/Users/HAZARIKA/Rate.csv.gz\\\\03.part',\n",
       " 'C:/Users/HAZARIKA/Rate.csv.gz\\\\04.part',\n",
       " 'C:/Users/HAZARIKA/Rate.csv.gz\\\\05.part',\n",
       " 'C:/Users/HAZARIKA/Rate.csv.gz\\\\06.part',\n",
       " 'C:/Users/HAZARIKA/Rate.csv.gz\\\\07.part',\n",
       " 'C:/Users/HAZARIKA/Rate.csv.gz\\\\08.part',\n",
       " 'C:/Users/HAZARIKA/Rate.csv.gz\\\\09.part',\n",
       " 'C:/Users/HAZARIKA/Rate.csv.gz\\\\10.part',\n",
       " 'C:/Users/HAZARIKA/Rate.csv.gz\\\\11.part',\n",
       " 'C:/Users/HAZARIKA/Rate.csv.gz\\\\12.part',\n",
       " 'C:/Users/HAZARIKA/Rate.csv.gz\\\\13.part',\n",
       " 'C:/Users/HAZARIKA/Rate.csv.gz\\\\14.part',\n",
       " 'C:/Users/HAZARIKA/Rate.csv.gz\\\\15.part',\n",
       " 'C:/Users/HAZARIKA/Rate.csv.gz\\\\16.part',\n",
       " 'C:/Users/HAZARIKA/Rate.csv.gz\\\\17.part',\n",
       " 'C:/Users/HAZARIKA/Rate.csv.gz\\\\18.part',\n",
       " 'C:/Users/HAZARIKA/Rate.csv.gz\\\\19.part',\n",
       " 'C:/Users/HAZARIKA/Rate.csv.gz\\\\20.part',\n",
       " 'C:/Users/HAZARIKA/Rate.csv.gz\\\\21.part',\n",
       " 'C:/Users/HAZARIKA/Rate.csv.gz\\\\22.part',\n",
       " 'C:/Users/HAZARIKA/Rate.csv.gz\\\\23.part',\n",
       " 'C:/Users/HAZARIKA/Rate.csv.gz\\\\24.part',\n",
       " 'C:/Users/HAZARIKA/Rate.csv.gz\\\\25.part',\n",
       " 'C:/Users/HAZARIKA/Rate.csv.gz\\\\26.part',\n",
       " 'C:/Users/HAZARIKA/Rate.csv.gz\\\\27.part',\n",
       " 'C:/Users/HAZARIKA/Rate.csv.gz\\\\28.part',\n",
       " 'C:/Users/HAZARIKA/Rate.csv.gz\\\\29.part',\n",
       " 'C:/Users/HAZARIKA/Rate.csv.gz\\\\30.part']"
      ]
     },
     "execution_count": 1,
     "metadata": {},
     "output_type": "execute_result"
    }
   ],
   "source": [
    "import datetime\n",
    "import csv\n",
    "import gzip\n",
    "\n",
    "from dask import dataframe as dd\n",
    "df = dd.read_csv('C:/Users/HAZARIKA/Desktop/Rate.csv',delimiter=',')\n",
    "\n",
    "# Write csv in gz format in pipe separated text file (|)\n",
    "df.to_csv('Rate.csv.gz',\n",
    "          sep='|',\n",
    "          header=True,\n",
    "          index=False,\n",
    "          quoting=csv.QUOTE_ALL,\n",
    "          compression='gzip',\n",
    "          quotechar='\"',\n",
    "          doublequote=True,\n",
    "          line_terminator='\\n')"
   ]
  },
  {
   "cell_type": "code",
   "execution_count": 3,
   "metadata": {},
   "outputs": [
    {
     "name": "stdout",
     "output_type": "stream",
     "text": [
      "00.part\n",
      "01.part\n",
      "02.part\n",
      "03.part\n",
      "04.part\n",
      "05.part\n",
      "06.part\n",
      "07.part\n",
      "08.part\n",
      "09.part\n",
      "10.part\n",
      "11.part\n",
      "12.part\n",
      "13.part\n",
      "14.part\n",
      "15.part\n",
      "16.part\n",
      "17.part\n",
      "18.part\n",
      "19.part\n",
      "20.part\n",
      "21.part\n",
      "22.part\n",
      "23.part\n",
      "24.part\n",
      "25.part\n",
      "26.part\n",
      "27.part\n",
      "28.part\n",
      "29.part\n",
      "30.part\n"
     ]
    }
   ],
   "source": [
    "#number of files in gz format folder\n",
    "import os\n",
    "entries = os.listdir('C:/Users/HAZARIKA/Rate.csv.gz/')\n",
    "for entry in entries:\n",
    "    print(entry)"
   ]
  },
  {
   "cell_type": "code",
   "execution_count": 7,
   "metadata": {},
   "outputs": [
    {
     "data": {
      "text/plain": [
       "8192"
      ]
     },
     "execution_count": 7,
     "metadata": {},
     "output_type": "execute_result"
    }
   ],
   "source": [
    "#size of the gz format folder\n",
    "os.path.getsize('C:/Users/HAZARIKA/Rate.csv.gz')"
   ]
  },
  {
   "cell_type": "code",
   "execution_count": null,
   "metadata": {},
   "outputs": [],
   "source": []
  }
 ],
 "metadata": {
  "kernelspec": {
   "display_name": "Python 3",
   "language": "python",
   "name": "python3"
  },
  "language_info": {
   "codemirror_mode": {
    "name": "ipython",
    "version": 3
   },
   "file_extension": ".py",
   "mimetype": "text/x-python",
   "name": "python",
   "nbconvert_exporter": "python",
   "pygments_lexer": "ipython3",
   "version": "3.8.5"
  }
 },
 "nbformat": 4,
 "nbformat_minor": 4
}
